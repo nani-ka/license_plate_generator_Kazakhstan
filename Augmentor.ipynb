{
 "cells": [
  {
   "cell_type": "code",
   "execution_count": 1,
   "metadata": {},
   "outputs": [],
   "source": [
    "import numpy as np\n",
    "import cv2"
   ]
  },
  {
   "cell_type": "code",
   "execution_count": 138,
   "metadata": {},
   "outputs": [],
   "source": [
    "def show(img):\n",
    "    cv2.imshow('Image', img)\n",
    "    cv2.waitKey(0)\n",
    "    cv2.destroyAllWindows()"
   ]
  },
  {
   "cell_type": "code",
   "execution_count": 3,
   "metadata": {},
   "outputs": [],
   "source": [
    "def random_overlay(image, background):\n",
    "    result = background.copy()\n",
    "    y, x, _ = plate.shape\n",
    "    random_point_x = np.random.randint(background.shape[1] - x)\n",
    "    random_point_y = np.random.randint(background.shape[0] - y)\n",
    "    \n",
    "    points = [(random_point_x, random_point_y), (random_point_x + x, random_point_y),\n",
    "              (random_point_x + x, random_point_y + y), (random_point_x, random_point_y + y)]\n",
    "    \n",
    "    result[random_point_y : random_point_y + y, random_point_x : random_point_x + x] = image\n",
    "    return result, points"
   ]
  },
  {
   "cell_type": "code",
   "execution_count": 123,
   "metadata": {},
   "outputs": [],
   "source": [
    "def random_overlay_transparent(image, background):\n",
    "    result = background.copy()\n",
    "    y, x, _ = image.shape\n",
    "    random_point_x = np.random.randint(background.shape[1] - x)\n",
    "    random_point_y = np.random.randint(background.shape[0] - y)\n",
    "    \n",
    "    points = [(random_point_x, random_point_y), (random_point_x + x, random_point_y),\n",
    "              (random_point_x + x, random_point_y + y), (random_point_x, random_point_y + y)]\n",
    "    \n",
    "#     result[random_point_y : random_point_y + y, random_point_x : random_point_x + x] = image\n",
    "    for i in range(random_point_y, random_point_y + y):\n",
    "        for j in range(random_point_x, random_point_x + x):\n",
    "            if image[i - random_point_y, j - random_point_x, 3] == 255:\n",
    "                result[i, j] = image[i - random_point_y, j - random_point_x]\n",
    "    return result, points"
   ]
  },
  {
   "cell_type": "code",
   "execution_count": null,
   "metadata": {},
   "outputs": [],
   "source": []
  },
  {
   "cell_type": "code",
   "execution_count": null,
   "metadata": {},
   "outputs": [],
   "source": []
  },
  {
   "cell_type": "code",
   "execution_count": null,
   "metadata": {},
   "outputs": [],
   "source": []
  },
  {
   "cell_type": "code",
   "execution_count": null,
   "metadata": {},
   "outputs": [],
   "source": []
  },
  {
   "cell_type": "code",
   "execution_count": 150,
   "metadata": {},
   "outputs": [],
   "source": [
    "plate = cv2.imread('007QNJ04.png')\n",
    "background = cv2.imread('nature-quotes-1557340276.jpg')"
   ]
  },
  {
   "cell_type": "code",
   "execution_count": 146,
   "metadata": {},
   "outputs": [],
   "source": [
    "while True:\n",
    "    result, points = random_overlay(plate, background)\n",
    "    cv2.polylines(result, [np.array(points)], True, (0, 255, 0))\n",
    "    cv2.imshow('frame', result)\n",
    "    if cv2.waitKey(500) & 0xFF == ord('q'):\n",
    "        break\n",
    "cv2.destroyAllWindows()"
   ]
  },
  {
   "cell_type": "code",
   "execution_count": null,
   "metadata": {},
   "outputs": [],
   "source": []
  },
  {
   "cell_type": "code",
   "execution_count": null,
   "metadata": {},
   "outputs": [],
   "source": []
  },
  {
   "cell_type": "code",
   "execution_count": null,
   "metadata": {},
   "outputs": [],
   "source": []
  },
  {
   "cell_type": "code",
   "execution_count": null,
   "metadata": {},
   "outputs": [],
   "source": []
  },
  {
   "cell_type": "code",
   "execution_count": 147,
   "metadata": {},
   "outputs": [],
   "source": [
    "background = cv2.resize(background, (500, 500), interpolation=cv2.INTER_AREA)"
   ]
  },
  {
   "cell_type": "code",
   "execution_count": null,
   "metadata": {},
   "outputs": [],
   "source": []
  },
  {
   "cell_type": "code",
   "execution_count": null,
   "metadata": {},
   "outputs": [],
   "source": []
  },
  {
   "cell_type": "code",
   "execution_count": null,
   "metadata": {},
   "outputs": [],
   "source": []
  },
  {
   "cell_type": "code",
   "execution_count": 161,
   "metadata": {},
   "outputs": [],
   "source": [
    "result, points = random_overlay(plate, background)\n",
    "cv2.polylines(result, [np.array(points)], True, (0, 255, 0))\n",
    "show(result)"
   ]
  },
  {
   "cell_type": "code",
   "execution_count": 162,
   "metadata": {},
   "outputs": [],
   "source": [
    "pts = [[points[0][0], points[0][1] - 10], [points[1][0], points[1][1] + 10],\n",
    "       [points[2][0], points[2][1] - 10], [points[3][0], points[3][1] + 10]]"
   ]
  },
  {
   "cell_type": "code",
   "execution_count": 163,
   "metadata": {},
   "outputs": [],
   "source": [
    "M = cv2.getPerspectiveTransform(np.float32(points), np.float32(pts))"
   ]
  },
  {
   "cell_type": "code",
   "execution_count": 164,
   "metadata": {},
   "outputs": [],
   "source": [
    "a, b, c = result.shape"
   ]
  },
  {
   "cell_type": "code",
   "execution_count": 165,
   "metadata": {},
   "outputs": [],
   "source": [
    "dst = cv2.warpPerspective(result, M, (b, a))\n"
   ]
  },
  {
   "cell_type": "code",
   "execution_count": 166,
   "metadata": {},
   "outputs": [],
   "source": [
    "cv2.polylines(dst, [np.array(pts)], True, (0, 0, 255));\n",
    "show(dst)"
   ]
  },
  {
   "cell_type": "code",
   "execution_count": null,
   "metadata": {},
   "outputs": [],
   "source": []
  },
  {
   "cell_type": "code",
   "execution_count": null,
   "metadata": {},
   "outputs": [],
   "source": []
  },
  {
   "cell_type": "code",
   "execution_count": null,
   "metadata": {},
   "outputs": [],
   "source": []
  },
  {
   "cell_type": "code",
   "execution_count": null,
   "metadata": {},
   "outputs": [],
   "source": []
  },
  {
   "cell_type": "code",
   "execution_count": 171,
   "metadata": {},
   "outputs": [],
   "source": [
    "plate = cv2.imread('0298ZB.png', cv2.IMREAD_UNCHANGED)\n",
    "background = cv2.imread('nature-quotes-1557340276.jpg', cv2.IMREAD_UNCHANGED)"
   ]
  },
  {
   "cell_type": "code",
   "execution_count": 172,
   "metadata": {},
   "outputs": [],
   "source": [
    "background = np.concatenate((background, np.ones((background.shape[0], background.shape[1], 1), dtype='uint8') * 255), axis=2)"
   ]
  },
  {
   "cell_type": "code",
   "execution_count": 173,
   "metadata": {},
   "outputs": [],
   "source": [
    "result, points = random_overlay_transparent(plate, background)"
   ]
  },
  {
   "cell_type": "code",
   "execution_count": 176,
   "metadata": {},
   "outputs": [],
   "source": [
    "show(result)"
   ]
  },
  {
   "cell_type": "code",
   "execution_count": 177,
   "metadata": {},
   "outputs": [],
   "source": [
    "cv2.polylines(result, [np.array(points)], True, (0, 255, 0));\n",
    "show(result)"
   ]
  },
  {
   "cell_type": "code",
   "execution_count": null,
   "metadata": {},
   "outputs": [],
   "source": []
  }
 ],
 "metadata": {
  "kernelspec": {
   "display_name": "Python 3",
   "language": "python",
   "name": "python3"
  },
  "language_info": {
   "codemirror_mode": {
    "name": "ipython",
    "version": 3
   },
   "file_extension": ".py",
   "mimetype": "text/x-python",
   "name": "python",
   "nbconvert_exporter": "python",
   "pygments_lexer": "ipython3",
   "version": "3.7.3"
  }
 },
 "nbformat": 4,
 "nbformat_minor": 2
}
